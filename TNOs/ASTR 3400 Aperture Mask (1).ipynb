{
 "cells": [
  {
   "cell_type": "code",
   "execution_count": 2,
   "metadata": {},
   "outputs": [],
   "source": [
    "import sys\n",
    "import numpy as np\n",
    "import matplotlib.pyplot as plt\n",
    "from astropy.io import fits\n",
    "%matplotlib notebook"
   ]
  },
  {
   "cell_type": "code",
   "execution_count": 21,
   "metadata": {
    "scrolled": true
   },
   "outputs": [
    {
     "name": "stdout",
     "output_type": "stream",
     "text": [
      "Please input x: 273\n",
      "Please input y: 325\n",
      "Please input radius: 10\n"
     ]
    },
    {
     "data": {
      "image/png": "[encoded data removed]",
      "text/plain": [
       "<Figure size 432x288 with 1 Axes>"
      ]
     },
     "metadata": {
      "needs_background": "light"
     },
     "output_type": "display_data"
    }
   ],
   "source": [
    "np.seterr(divide='ignore', invalid='ignore')\n",
    "fits_dir = \"/data/tnorecon/RECON_clean/yakima/\"\n",
    "fits_data = fits.getdata(fits_dir + \"20201021/20201021_2/00100.fits\")\n",
    "fits_dark = fits.getdata(fits_dir + \"20201021/20201021_4.dark\")\n",
    "fits_flat = fits.getdata(fits_dir + \"20201021/20201021_3.flat\")\n",
    "normalized = fits_flat/(np.median(fits_flat))\n",
    "dark_subtracted = np.subtract(fits_data, fits_dark)\n",
    "flat_subtracted = np.true_divide(dark_subtracted, normalized)\n",
    "y_arr, x_arr = np.shape(flat_subtracted)\n",
    "y_arr, x_arr = np.ogrid[:y_arr,:x_arr]\n",
    "\n",
    "def creat_circle_mask(y_arr, x_arr):\n",
    "    plt.figure()\n",
    "    plt.title(\"Target-star Image\")\n",
    "    x_axis  = int(input(\"Please input x: \"))\n",
    "    y_axis  = int(input(\"Please input y: \"))\n",
    "    radius  = int(input(\"Please input radius: \"))\n",
    "    masking = (x_arr-x_axis)**2 + (y_arr-y_axis)**2 <= radius**2     # Calculating and defining the aperture mask \n",
    "    masked  = np.multiply(flat_subtracted, masking)                   # Multiply with the original fits and output the new array\n",
    "    masked[np.isnan(masked)] = 0\n",
    "    plt.imshow(masked, cmap='gray', origin='top', vmin=0, vmax=255)\n",
    "    \n",
    "    \n",
    "if __name__ == \"__main__\":\n",
    "    creat_circle_mask(y_arr, x_arr)"
   ]
  },
  {
   "cell_type": "code",
   "execution_count": null,
   "metadata": {},
   "outputs": [],
   "source": []
  },
  {
   "cell_type": "markdown",
   "metadata": {},
   "source": [
    "#### "
   ]
  }
 ],
 "metadata": {
  "kernelspec": {
   "display_name": "Python 3 (ipykernel)",
   "language": "python",
   "name": "python3"
  },
  "language_info": {
   "codemirror_mode": {
    "name": "ipython",
    "version": 3
   },
   "file_extension": ".py",
   "mimetype": "text/x-python",
   "name": "python",
   "nbconvert_exporter": "python",
   "pygments_lexer": "ipython3",
   "version": "3.6.9"
  }
 },
 "nbformat": 4,
 "nbformat_minor": 2
}
