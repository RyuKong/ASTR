{
 "cells": [
  {
   "cell_type": "code",
   "execution_count": 9,
   "metadata": {},
   "outputs": [],
   "source": [
    "import sys\n",
    "import numpy as np\n",
    "import matplotlib.pyplot as plt\n",
    "from astropy.io import fits\n",
    "%matplotlib notebook"
   ]
  },
  {
   "cell_type": "code",
   "execution_count": 10,
   "metadata": {},
   "outputs": [
    {
     "name": "stdout",
     "output_type": "stream",
     "text": [
      "Input Aperture Radius: 10\n",
      "Input Inner Annulus' Radius: 20\n",
      "Input Outer Annulus' Radius: 40\n",
      "Input Target Coordinates: 280 242\n",
      "Input Reference Coordinates: 273 325\n"
     ]
    },
    {
     "ename": "NameError",
     "evalue": "name 'Calculations' is not defined",
     "output_type": "error",
     "traceback": [
      "\u001b[0;31m---------------------------------------------------------------------------\u001b[0m",
      "\u001b[0;31mNameError\u001b[0m                                 Traceback (most recent call last)",
      "\u001b[0;32m<ipython-input-10-6b026d9e0f76>\u001b[0m in \u001b[0;36m<module>\u001b[0;34m\u001b[0m\n\u001b[1;32m     83\u001b[0m \u001b[0;32mif\u001b[0m \u001b[0m__name__\u001b[0m \u001b[0;34m==\u001b[0m \u001b[0;34m\"__main__\"\u001b[0m\u001b[0;34m:\u001b[0m\u001b[0;34m\u001b[0m\u001b[0;34m\u001b[0m\u001b[0m\n\u001b[1;32m     84\u001b[0m     \u001b[0mInfo\u001b[0m \u001b[0;34m=\u001b[0m \u001b[0mInformation\u001b[0m\u001b[0;34m(\u001b[0m\u001b[0;34m)\u001b[0m\u001b[0;34m\u001b[0m\u001b[0;34m\u001b[0m\u001b[0m\n\u001b[0;32m---> 85\u001b[0;31m     \u001b[0mInfo\u001b[0m\u001b[0;34m.\u001b[0m\u001b[0mInputQuestions\u001b[0m\u001b[0;34m(\u001b[0m\u001b[0;34m)\u001b[0m\u001b[0;34m\u001b[0m\u001b[0;34m\u001b[0m\u001b[0m\n\u001b[0m\u001b[1;32m     86\u001b[0m     \u001b[0;32mif\u001b[0m \u001b[0mInfo\u001b[0m\u001b[0;34m.\u001b[0m\u001b[0mradius\u001b[0m \u001b[0;34m<\u001b[0m \u001b[0mInfo\u001b[0m\u001b[0;34m.\u001b[0m\u001b[0mradiii\u001b[0m \u001b[0;34m<\u001b[0m \u001b[0mInfo\u001b[0m\u001b[0;34m.\u001b[0m\u001b[0mscopes\u001b[0m\u001b[0;34m:\u001b[0m\u001b[0;34m\u001b[0m\u001b[0;34m\u001b[0m\u001b[0m\n\u001b[1;32m     87\u001b[0m         \u001b[0mprint\u001b[0m\u001b[0;34m(\u001b[0m\u001b[0;34m'pass'\u001b[0m\u001b[0;34m)\u001b[0m\u001b[0;34m\u001b[0m\u001b[0;34m\u001b[0m\u001b[0m\n",
      "\u001b[0;32m<ipython-input-10-6b026d9e0f76>\u001b[0m in \u001b[0;36mInputQuestions\u001b[0;34m(value)\u001b[0m\n\u001b[1;32m     22\u001b[0m         \u001b[0mx_axis\u001b[0m\u001b[0;34m,\u001b[0m\u001b[0my_axis\u001b[0m  \u001b[0;34m=\u001b[0m \u001b[0;34m(\u001b[0m\u001b[0mint\u001b[0m\u001b[0;34m(\u001b[0m\u001b[0mnum\u001b[0m\u001b[0;34m)\u001b[0m \u001b[0;32mfor\u001b[0m \u001b[0mnum\u001b[0m \u001b[0;32min\u001b[0m \u001b[0minput\u001b[0m\u001b[0;34m(\u001b[0m\u001b[0;34m\"Input Target Coordinates: \"\u001b[0m\u001b[0;34m)\u001b[0m\u001b[0;34m.\u001b[0m\u001b[0msplit\u001b[0m\u001b[0;34m(\u001b[0m\u001b[0;34m)\u001b[0m\u001b[0;34m)\u001b[0m    \u001b[0;31m#280,242\u001b[0m\u001b[0;34m\u001b[0m\u001b[0;34m\u001b[0m\u001b[0m\n\u001b[1;32m     23\u001b[0m         \u001b[0mx_comp\u001b[0m\u001b[0;34m,\u001b[0m\u001b[0my_comp\u001b[0m  \u001b[0;34m=\u001b[0m \u001b[0;34m(\u001b[0m\u001b[0mint\u001b[0m\u001b[0;34m(\u001b[0m\u001b[0mnum\u001b[0m\u001b[0;34m)\u001b[0m \u001b[0;32mfor\u001b[0m \u001b[0mnum\u001b[0m \u001b[0;32min\u001b[0m \u001b[0minput\u001b[0m\u001b[0;34m(\u001b[0m\u001b[0;34m\"Input Reference Coordinates: \"\u001b[0m\u001b[0;34m)\u001b[0m\u001b[0;34m.\u001b[0m\u001b[0msplit\u001b[0m\u001b[0;34m(\u001b[0m\u001b[0;34m)\u001b[0m\u001b[0;34m)\u001b[0m \u001b[0;31m#273,325\u001b[0m\u001b[0;34m\u001b[0m\u001b[0;34m\u001b[0m\u001b[0m\n\u001b[0;32m---> 24\u001b[0;31m         \u001b[0mCalculations\u001b[0m\u001b[0;34m(\u001b[0m\u001b[0mradius\u001b[0m\u001b[0;34m,\u001b[0m\u001b[0mradii\u001b[0m\u001b[0;34m,\u001b[0m\u001b[0mscopes\u001b[0m\u001b[0;34m,\u001b[0m\u001b[0mx_axis\u001b[0m\u001b[0;34m,\u001b[0m\u001b[0my_axis\u001b[0m\u001b[0;34m,\u001b[0m\u001b[0mx_comp\u001b[0m\u001b[0;34m,\u001b[0m\u001b[0my_comp\u001b[0m\u001b[0;34m)\u001b[0m\u001b[0;34m\u001b[0m\u001b[0;34m\u001b[0m\u001b[0m\n\u001b[0m\u001b[1;32m     25\u001b[0m \u001b[0;34m\u001b[0m\u001b[0m\n\u001b[1;32m     26\u001b[0m \u001b[0;34m\u001b[0m\u001b[0m\n",
      "\u001b[0;31mNameError\u001b[0m: name 'Calculations' is not defined"
     ]
    }
   ],
   "source": [
    "def Calculations(radius,radii,scopes,x_axis,y_axis,x_comp,y_comp):\n",
    "        target_outer       = (x_arr-x_axis)**2 + (y_arr-y_axis)**2 <= scopes**2\n",
    "        target_inner       = (x_arr-x_axis)**2 + (y_arr-y_axis)**2 <= radiii**2\n",
    "        target_aperture    = (x_arr-x_axis)**2 + (y_arr-y_axis)**2 <= radius**2\n",
    "        reference_outer    = (x_arr-x_comp)**2 + (y_arr-y_comp)**2 <= scopes**2\n",
    "        reference_inner    = (x_arr-x_comp)**2 + (y_arr-y_comp)**2 <= radiii**2\n",
    "        reference_aperture = (x_arr-x_comp)**2 + (y_arr-y_comp)**2 <= radius**2  \n",
    "        CreateArray()\n",
    "\n",
    "def DataGraph():\n",
    "        SigmaA    = [int(a)/int(b) for a,b in zip(DataUncertainty,DataCountsArray)]\n",
    "        SigmaB    = [int(a)/int(b) for a,b in zip(CompUncertainty,CompCountsArray)]\n",
    "        DiffFlux  = [int(a)/int(b) for a,b in zip(DataCountsArray,CompCountsArray)]\n",
    "        SigmaDiff = [(c)*np.sqrt((a)**2+(b)**2) for a,b,c in zip(SigmaA,SigmaB,DiffFlux)]\n",
    "    \n",
    "def CreateAnnulus():\n",
    "    value = Information()\n",
    "    outerannulus = np.multiply(flat_subtracted,mask)\n",
    "    innerannulus = np.multiply(flat_subtracted,thick)\n",
    "    aperture     = np.multiply(flat_subtracted,target)\n",
    "    outerannulus[np.isnan(outerannulus)] = 0\n",
    "    innerannulus[np.isnan(innerannulus)] = 0\n",
    "    aperture[np.isnan(aperture)]         = 0\n",
    "    annulus     = np.subtract(outerannulus,innerannulus)\n",
    "    avgFlux     = np.sum(annulus)/np.count_nonzero(annulus)\n",
    "    starcounts  = np.sum(aperture)-(avgFlux*np.count_nonzero(aperture))\n",
    "    uncertainty = np.sqrt(starcounts+np.sum(aperture)+np.count_nonzero(aperture)*(10**2))\n",
    "    return starcounts,uncertainty\n",
    "    \n",
    "\n",
    "\n",
    "        \n",
    "    \n",
    "def CreateArray():\n",
    "        CompArray = []\n",
    "        DataArray = []\n",
    "        FrameTime = []\n",
    "        DataCountsArray = []\n",
    "        DataUncertainty = []\n",
    "        CompCountsArray = []\n",
    "        CompUncertainty = []\n",
    "        for reconFiles in range(100,120):\n",
    "            fits_data,header= fits.getdata(fits_file+f\"20201021/20201021_2/00{reconFiles}.fits\",header=True)\n",
    "            dark_subtracted = np.subtract(fits_data,fits_dark)\n",
    "            flat_subtracted = np.true_divide(dark_subtracted,normalize)\n",
    "            DataArray.append(CreateAnnulus(target_aperture,target_mask,target_thickness))\n",
    "            CompArray.append(CreateAnnulus(reference_aperture,reference_mask,reference_thickness))\n",
    "            FrameTime.append(header['DATE-OBS'])\n",
    "        for index,each in enumerate(FrameTime):\n",
    "            FrameTime[index]=each[11:19]\n",
    "        for each in DataArray:\n",
    "            DataCountsArray.append(each[0])\n",
    "            DataUncertainty.append(each[1])\n",
    "        for each in CompArray:\n",
    "            CompCountsArray.append(each[0])\n",
    "            CompUncertainty.append(each[1])\n",
    "\n",
    "\n",
    "if __name__ == \"__main__\":\n",
    "np.seterr(divide='ignore',invalid='ignore')\n",
    "    fits_file = \"/data/tnorecon/RECON_clean/yakima/\"\n",
    "    fits_dark = fits.getdata(fits_file+\"20201021/20201021_4.dark\")\n",
    "    fits_flat = fits.getdata(fits_file+\"20201021/20201021_3.flat\")\n",
    "    y_arr,x_arr = np.shape(fits_flat)\n",
    "    y_arr,x_arr = np.ogrid[:y_arr,:x_arr]\n",
    "    normalize = fits_flat/(np.median(fits_flat))\n",
    "    radius  = int(input(\"Input Aperture Radius: \"))\n",
    "    radiii  = int(input(\"Input Inner Annulus' Radius: \"))\n",
    "    scopes  = int(input(\"Input Outer Annulus' Radius: \"))\n",
    "    x_axis,y_axis  = (int(num) for num in input(\"Input Target Coordinates: \").split())    #280,242\n",
    "    x_comp,y_comp  = (int(num) for num in input(\"Input Reference Coordinates: \").split()) #273,325\n",
    "    if radius < radiii < scopes:\n",
    "        print('pass')\n",
    "        CreateArray()\n",
    "        Calculations(radius,radii,scopes,x_axis,y_axis,x_comp,y_comp)\n",
    "        \n",
    "        #plt.errorbar(FrameTime,DiffFlux,yerr=value.SigmaDiff,mfc='red',label='Differential Flux',fmt='-*',ecolor='gray')\n",
    "        #plt.legend(loc='upper right',prop={'size':8})\n",
    "        #plt.rc('xtick',labelsize=8)\n",
    "        plt.xticks(rotation=90)\n",
    "        pass\n",
    "    else:\n",
    "        sys.exit(\"Please Reinput Valid Values\")"
   ]
  },
  {
   "cell_type": "markdown",
   "metadata": {},
   "source": [
    "## "
   ]
  },
  {
   "cell_type": "code",
   "execution_count": 46,
   "metadata": {},
   "outputs": [
    {
     "name": "stdout",
     "output_type": "stream",
     "text": [
      "<function x at 0x7f7e8da9dea0>\n"
     ]
    }
   ],
   "source": [
    "A"
   ]
  },
  {
   "cell_type": "code",
   "execution_count": null,
   "metadata": {},
   "outputs": [],
   "source": []
  }
 ],
 "metadata": {
  "kernelspec": {
   "display_name": "Python 3",
   "language": "python",
   "name": "python3"
  },
  "language_info": {
   "codemirror_mode": {
    "name": "ipython",
    "version": 3
   },
   "file_extension": ".py",
   "mimetype": "text/x-python",
   "name": "python",
   "nbconvert_exporter": "python",
   "pygments_lexer": "ipython3",
   "version": "3.6.9"
  }
 },
 "nbformat": 4,
 "nbformat_minor": 2
}
