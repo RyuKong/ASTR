{
 "cells": [
  {
   "cell_type": "code",
   "execution_count": 34,
   "metadata": {},
   "outputs": [],
   "source": [
    "import sys\n",
    "import numpy as np\n",
    "import matplotlib.pyplot as plt\n",
    "from astropy.io import fits\n",
    "%matplotlib notebook"
   ]
  },
  {
   "cell_type": "code",
   "execution_count": null,
   "metadata": {},
   "outputs": [],
   "source": []
  },
  {
   "cell_type": "markdown",
   "metadata": {
    "scrolled": true
   },
   "source": [
    "def creat_circle_mask(y_arr,x_arr,x_axis,y_axis,radius,radiii):\n",
    "\n",
    "    target  = (x_arr-x_axis)**2 + (y_arr-y_axis)**2 <= radiii**2\n",
    "    masking = (x_arr-x_axis)**2 + (y_arr-y_axis)**2 <= radius**2\n",
    "    aperture  = np.multiply(flat_subtracted, masking)\n",
    "    stararea  = np.multiply(flat_subtracted, target)  \n",
    "    aperture[np.isnan(aperture)] = 0\n",
    "    stararea[np.isnan(stararea)] = 0\n",
    "    calculation(aperture,stararea)\n",
    "    \n",
    "def calculation(aperture,stararea):\n",
    "    annulus = np.subtract(aperture, stararea)\n",
    "    avg_brightness = np.sum(annulus)/np.count_nonzero(annulus)\n",
    "    star_counts = np.sum(aperture)-(avg_brightness*np.count_nonzero(aperture))\n",
    "    print(star_counts)\n",
    "    \n",
    "if __name__ == \"__main__\":\n",
    "    np.seterr(divide='ignore', invalid='ignore')\n",
    "    fits_dir = \"/data/tnorecon/RECON_clean/yakima/\"\n",
    "    fits_dark = fits.getdata(fits_dir + \"20201021/20201021_4.dark\")\n",
    "    fits_flat = fits.getdata(fits_dir + \"20201021/20201021_3.flat\")\n",
    "    normalized = fits_flat/(np.median(fits_flat))\n",
    "    dark_subtracted = np.subtract(fits_data, fits_dark)\n",
    "    flat_subtracted = np.true_divide(dark_subtracted, normalized)\n",
    "    y_arr, x_arr = np.shape(flat_subtracted)\n",
    "    y_arr, x_arr = np.ogrid[:y_arr,:x_arr]\n",
    "    x_axis  = int(input(\"Input X-Axis: \"))\n",
    "    y_axis  = int(input(\"Input Y-Axis: \"))\n",
    "    radius  = int(input(\"Input Aperture Radius: \"))\n",
    "    radiii  = int(input(\"Input Target Star Radius: \"))\n",
    "    for num in range(100,121):\n",
    "        file = \"20201021/20201021_2/00\" + str(x)+ \".fits\"\n",
    "        fits_data = fits.getdata(fits_dir + file)\n",
    "        creat_circle_mask(y_arr,x_arr,x_axis,y_axis,radius,radiii)\n",
    "    print(file)"
   ]
  },
  {
   "cell_type": "code",
   "execution_count": 29,
   "metadata": {},
   "outputs": [
    {
     "name": "stdout",
     "output_type": "stream",
     "text": [
      "20201021/20201021_2/100.fits\n",
      "20201021/20201021_2/101.fits\n",
      "20201021/20201021_2/102.fits\n",
      "20201021/20201021_2/103.fits\n",
      "20201021/20201021_2/104.fits\n",
      "20201021/20201021_2/105.fits\n",
      "20201021/20201021_2/106.fits\n",
      "20201021/20201021_2/107.fits\n",
      "20201021/20201021_2/108.fits\n",
      "20201021/20201021_2/109.fits\n",
      "20201021/20201021_2/110.fits\n",
      "20201021/20201021_2/111.fits\n",
      "20201021/20201021_2/112.fits\n",
      "20201021/20201021_2/113.fits\n",
      "20201021/20201021_2/114.fits\n",
      "20201021/20201021_2/115.fits\n",
      "20201021/20201021_2/116.fits\n",
      "20201021/20201021_2/117.fits\n",
      "20201021/20201021_2/118.fits\n",
      "20201021/20201021_2/119.fits\n",
      "20201021/20201021_2/120.fits\n"
     ]
    }
   ],
   "source": [
    "x = \"00100\"\n",
    "\n",
    "\n",
    "for x in range(100,121):\n",
    "    each = \n",
    "    print(each)\n"
   ]
  },
  {
   "cell_type": "code",
   "execution_count": null,
   "metadata": {},
   "outputs": [],
   "source": []
  }
 ],
 "metadata": {
  "kernelspec": {
   "display_name": "Python 3",
   "language": "python",
   "name": "python3"
  },
  "language_info": {
   "codemirror_mode": {
    "name": "ipython",
    "version": 3
   },
   "file_extension": ".py",
   "mimetype": "text/x-python",
   "name": "python",
   "nbconvert_exporter": "python",
   "pygments_lexer": "ipython3",
   "version": "3.6.9"
  }
 },
 "nbformat": 4,
 "nbformat_minor": 2
}
