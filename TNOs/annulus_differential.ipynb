{
 "cells": [
  {
   "cell_type": "code",
   "execution_count": 1,
   "metadata": {},
   "outputs": [],
   "source": [
    "import sys\n",
    "import numpy as np\n",
    "import matplotlib.pyplot as plt\n",
    "from astropy.io import fits\n",
    "%matplotlib notebook"
   ]
  },
  {
   "cell_type": "code",
   "execution_count": null,
   "metadata": {},
   "outputs": [],
   "source": [
    "def creat_annulus(target,mask,thick):\n",
    "    outerannulus = np.multiply(flat_subtracted,mask)\n",
    "    innerannulus = np.multiply(flat_subtracted,thick)\n",
    "    aperture     = np.multiply(flat_subtracted,target)\n",
    "    outerannulus[np.isnan(outerannulus)] = 0\n",
    "    innerannulus[np.isnan(innerannulus)] = 0\n",
    "    aperture[np.isnan(aperture)]         = 0\n",
    "    annulus = np.subtract(outerannulus,innerannulus)\n",
    "    avg_annulus = np.sum(annulus)/np.count_nonzero(annulus)\n",
    "    starcounts  = np.sum(aperture)-(avg_annulus*np.count_nonzero(aperture))\n",
    "    uncertainty = np.sqrt(starcounts+np.sum(aperture)+np.count_nonzero(aperture)*(10**2))\n",
    "    return starcounts,uncertainty"
   ]
  },
  {
   "cell_type": "code",
   "execution_count": 11,
   "metadata": {},
   "outputs": [
    {
     "name": "stdout",
     "output_type": "stream",
     "text": [
      "Input X-Axis: 280\n",
      "Input Y-Axis: 242\n",
      "Input Aperture Radius: 10\n",
      "Input Inner Annulus' Radius: 20\n",
      "Input Outer Annulus' Radius: 40\n"
     ]
    },
    {
     "data": {
      "image/png": "[encoded data removed]",
      "text/plain": [
       "<Figure size 432x288 with 1 Axes>"
      ]
     },
     "metadata": {
      "needs_background": "light"
     },
     "output_type": "display_data"
    }
   ],
   "source": [
    "if __name__ == \"__main__\":\n",
    "    np.seterr(divide='ignore',invalid='ignore')\n",
    "    fits_file = \"/data/tnorecon/RECON_clean/yakima/\"\n",
    "    fits_dark = fits.getdata(fits_file+\"20201021/20201021_4.dark\")\n",
    "    fits_flat = fits.getdata(fits_file+\"20201021/20201021_3.flat\")\n",
    "    normalize = fits_flat/(np.median(fits_flat))\n",
    "    y_arr,x_arr = np.shape(fits_flat)\n",
    "    y_arr,x_arr = np.ogrid[:y_arr,:x_arr]\n",
    "    x_axis  = int(input(\"Input X-Axis: \"))\n",
    "    y_axis  = int(input(\"Input Y-Axis: \"))\n",
    "    radius  = int(input(\"Input Aperture Radius: \"))\n",
    "    radiii  = int(input(\"Input Inner Annulus' Radius: \"))\n",
    "    scopes  = int(input(\"Input Outer Annulus' Radius: \"))\n",
    "    if radius < radiii < scopes:\n",
    "        reference_mask      = (x_arr-273)**2 + (y_arr-325)**2 <= scopes**2\n",
    "        reference_aperture  = (x_arr-273)**2 + (y_arr-325)**2 <= radius**2\n",
    "        reference_thickness = (x_arr-273)**2 + (y_arr-325)**2 <= radiii**2\n",
    "        target_mask         = (x_arr-x_axis)**2 + (y_arr-y_axis)**2 <= scopes**2\n",
    "        target_aperture     = (x_arr-x_axis)**2 + (y_arr-y_axis)**2 <= radius**2\n",
    "        target_thickness    = (x_arr-x_axis)**2 + (y_arr-y_axis)**2 <= radiii**2\n",
    "        CompArray = []\n",
    "        DataArray = []\n",
    "        FrameTime = []\n",
    "        pass\n",
    "    else:\n",
    "        sys.exit(\"Please Imput Valid Values\")\n",
    "    for reconFiles in range(100,120):\n",
    "        fits_data,header= fits.getdata(fits_file+f\"20201021/20201021_2/00{reconFiles}.fits\",header=True)\n",
    "        dark_subtracted = np.subtract(fits_data,fits_dark)\n",
    "        flat_subtracted = np.true_divide(dark_subtracted,normalize)\n",
    "        DataArray.append(creat_annulus(target_aperture,target_mask,target_thickness))\n",
    "        CompArray.append(creat_annulus(reference_aperture,reference_mask,reference_thickness))\n",
    "        FrameTime.append(header['DATE-OBS'])\n",
    "    DataCountsArray = []\n",
    "    DataUncertainty = []\n",
    "    for each in DataArray:\n",
    "        DataCountsArray.append(each[0])\n",
    "        DataUncertainty.append(each[1])\n",
    "    CompCountsArray = []\n",
    "    CompUncertainty = []\n",
    "    for each in CompArray:\n",
    "        CompCountsArray.append(each[0])\n",
    "        CompUncertainty.append(each[1])\n",
    "    for index,each in enumerate(FrameTime):\n",
    "        FrameTime[index]=each[11:19]\n",
    "    differential  = [int(a)/int(b) for a,b in zip(DataCountsArray,CompCountsArray)]\n",
    "    plt.errorbar(FrameTime,differential,marker='s',mfc='red')\n",
    "    plt.rc('xtick',labelsize=8)\n",
    "    plt.xticks(rotation=90)"
   ]
  },
  {
   "cell_type": "code",
   "execution_count": null,
   "metadata": {},
   "outputs": [],
   "source": []
  },
  {
   "cell_type": "markdown",
   "metadata": {},
   "source": [
    "## "
   ]
  }
 ],
 "metadata": {
  "kernelspec": {
   "display_name": "Python 3",
   "language": "python",
   "name": "python3"
  },
  "language_info": {
   "codemirror_mode": {
    "name": "ipython",
    "version": 3
   },
   "file_extension": ".py",
   "mimetype": "text/x-python",
   "name": "python",
   "nbconvert_exporter": "python",
   "pygments_lexer": "ipython3",
   "version": "3.7.3"
  }
 },
 "nbformat": 4,
 "nbformat_minor": 4
}
