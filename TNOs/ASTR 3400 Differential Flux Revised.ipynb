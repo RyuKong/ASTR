{
 "cells": [
  {
   "cell_type": "code",
   "execution_count": 1,
   "metadata": {},
   "outputs": [],
   "source": [
    "import sys\n",
    "import numpy as np\n",
    "import matplotlib.pyplot as plt\n",
    "from astropy.io import fits\n",
    "%matplotlib notebook"
   ]
  },
  {
   "cell_type": "code",
   "execution_count": 7,
   "metadata": {},
   "outputs": [
    {
     "name": "stdout",
     "output_type": "stream",
     "text": [
      "Input Aperture Radius: 10\n",
      "Input Inner Annulus' Radius: 20\n",
      "Input Outer Annulus' Radius: 40\n",
      "Input Target Coordinates: 280 242\n",
      "Input Reference Coordinates: 273 325\n"
     ]
    },
    {
     "data": {
      "image/png": "[encoded data removed]",
      "text/plain": [
       "<Figure size 1008x576 with 1 Axes>"
      ]
     },
     "metadata": {
      "needs_background": "light"
     },
     "output_type": "display_data"
    }
   ],
   "source": [
    "def CreateAnnulus(target,mask,thick):\n",
    "    outerannulus = np.multiply(flat_subtracted,mask)\n",
    "    innerannulus = np.multiply(flat_subtracted,thick)\n",
    "    aperture     = np.multiply(flat_subtracted,target)\n",
    "    outerannulus[np.isnan(outerannulus)] = 0\n",
    "    innerannulus[np.isnan(innerannulus)] = 0\n",
    "    aperture[np.isnan(aperture)]         = 0\n",
    "    annulus = np.subtract(outerannulus,innerannulus)\n",
    "    avg_annulus = np.sum(annulus)/np.count_nonzero(annulus)\n",
    "    starcounts  = np.sum(aperture)-(avg_annulus*np.count_nonzero(aperture))\n",
    "    uncertainty = np.sqrt(starcounts+np.sum(aperture)+np.count_nonzero(aperture)*(10**2))\n",
    "    return starcounts,uncertainty\n",
    "\n",
    "def main():\n",
    "    CompArray = []\n",
    "    DataArray = []\n",
    "    FrameTime = []\n",
    "    DataCountsArray = []\n",
    "    DataUncertainty = []\n",
    "    CompCountsArray = []\n",
    "    CompUncertainty = []\n",
    "    np.seterr(divide='ignore',invalid='ignore')\n",
    "    radius = int(input(\"Input Aperture Radius: \"))\n",
    "    radiii = int(input(\"Input Inner Annulus' Radius: \"))\n",
    "    scopes = int(input(\"Input Outer Annulus' Radius: \"))\n",
    "    FitsFile = \"/data/tnorecon/RECON_clean/yakima/\"\n",
    "    FitsDark = fits.getdata(FitsFile+\"20201021/20201021_4.dark\")\n",
    "    FitsFlat = fits.getdata(FitsFile+\"20201021/20201021_3.flat\")\n",
    "    x_axis,y_axis  = (int(num) for num in input(\"Input Target Coordinates: \").split())    # 280,242\n",
    "    x_comp,y_comp  = (int(num) for num in input(\"Input Reference Coordinates: \").split()) # 273,325\n",
    "    \n",
    "    if radius < radiii < scopes:\n",
    "        y_arr,x_arr = np.shape(FitsFlat)\n",
    "        y_arr,x_arr = np.ogrid[:y_arr,:x_arr]\n",
    "        normalized  = FitsFlat/(np.median(FitsFlat))\n",
    "        reference_mask      = (x_arr-273)**2 + (y_arr-325)**2 <= scopes**2\n",
    "        reference_aperture  = (x_arr-273)**2 + (y_arr-325)**2 <= radius**2\n",
    "        reference_thickness = (x_arr-273)**2 + (y_arr-325)**2 <= radiii**2\n",
    "        target_mask         = (x_arr-x_axis)**2 + (y_arr-y_axis)**2 <= scopes**2\n",
    "        target_aperture     = (x_arr-x_axis)**2 + (y_arr-y_axis)**2 <= radius**2\n",
    "        target_thickness    = (x_arr-x_axis)**2 + (y_arr-y_axis)**2 <= radiii**2\n",
    "        \n",
    "        for reconFiles in range(100,160):\n",
    "            FitsData,header = fits.getdata(FitsFile+f\"20201021/20201021_2/00{reconFiles}.fits\",header=True)\n",
    "            dark_subtracted = np.subtract(FitsData,FitsDark)\n",
    "            flat_subtracted = np.true_divide(dark_subtracted,normalized)\n",
    "            DataArray.append(CreateAnnulus(target_aperture,target_mask,target_thickness))\n",
    "            CompArray.append(CreateAnnulus(reference_aperture,reference_mask,reference_thickness))\n",
    "            FrameTime.append(header['DATE-OBS'])\n",
    "        for each in DataArray:\n",
    "            DataCountsArray.append(each[0])\n",
    "            DataUncertainty.append(each[1])\n",
    "        for each in CompArray:\n",
    "            CompCountsArray.append(each[0])\n",
    "            CompUncertainty.append(each[1])\n",
    "        for index,each in enumerate(FrameTime):\n",
    "            FrameTime[index]=each[11:19]\n",
    "            \n",
    "        SigmaA    = [int(a)/int(b) for a,b in zip(DataUncertainty,DataCountsArray)]\n",
    "        SigmaB    = [int(a)/int(b) for a,b in zip(CompUncertainty,CompCountsArray)]\n",
    "        DiffFlux  = [int(a)/int(b) for a,b in zip(DataCountsArray,CompCountsArray)]\n",
    "        SigmaDiff = [(c)*np.sqrt((a)**2+(b)**2) for a,b,c in zip(SigmaA,SigmaB,DiffFlux)]\n",
    "        \n",
    "        plt.figure(figsize=(14,8)) \n",
    "        plt.rc('xtick',labelsize=9)\n",
    "        plt.errorbar(FrameTime,DiffFlux,yerr=SigmaDiff,mfc='red',label='Differential Flux',fmt='-*',ecolor='grey')\n",
    "        plt.title('Target Differential Flux vs. Frame')\n",
    "        plt.legend(loc='upper right',prop={'size':13})\n",
    "        plt.ylabel('Differential Flux')\n",
    "        plt.xticks(rotation=90)\n",
    "        \n",
    "    else:\n",
    "        sys.exit(\"Please Imput Valid Values\")\n",
    "\n",
    "if __name__ == \"__main__\":\n",
    "    main()"
   ]
  },
  {
   "cell_type": "markdown",
   "metadata": {},
   "source": [
    "### "
   ]
  }
 ],
 "metadata": {
  "kernelspec": {
   "display_name": "Python 3",
   "language": "python",
   "name": "python3"
  },
  "language_info": {
   "codemirror_mode": {
    "name": "ipython",
    "version": 3
   },
   "file_extension": ".py",
   "mimetype": "text/x-python",
   "name": "python",
   "nbconvert_exporter": "python",
   "pygments_lexer": "ipython3",
   "version": "3.6.9"
  }
 },
 "nbformat": 4,
 "nbformat_minor": 2
}
